{
 "cells": [
  {
   "cell_type": "code",
   "execution_count": null,
   "metadata": {},
   "outputs": [],
   "source": [
    "import concurrent.futures\n",
    "import functools\n",
    "import pathlib\n",
    "import sys\n",
    "\n",
    "import pandas as pd\n",
    "import tqdm\n",
    "\n",
    "sys.path.insert(0, '../src/')\n",
    "import parallel_utils"
   ]
  },
  {
   "cell_type": "code",
   "execution_count": null,
   "metadata": {},
   "outputs": [],
   "source": [
    "# User-specified directory paths\n",
    "meta_files_path = pathlib.Path('../data/meta/')\n",
    "archives_path = pathlib.Path('../data/archives/')\n",
    "\n",
    "temp_extract_dir = pathlib.Path('../data/extract_dir/')\n",
    "temp_extract_dir.mkdir(exist_ok=True)\n",
    "\n",
    "computed_scores_path = pathlib.Path('../data/scores/')\n",
    "computed_scores_path.mkdir(exist_ok=True)"
   ]
  },
  {
   "cell_type": "code",
   "execution_count": null,
   "metadata": {},
   "outputs": [],
   "source": [
    "files_map_df = (\n",
    "    pd.read_csv(meta_files_path.joinpath('file_map.csv'))\n",
    "    .assign(\n",
    "        archive_file_path=lambda df: df['score_file'].apply(archives_path.joinpath),\n",
    "    )\n",
    ")\n",
    "\n",
    "drugs = sorted(set(files_map_df['drug'].astype(int)))\n",
    "\n",
    "compute_scores_partial = functools.partial(parallel_utils.compute_propensity_scores,\n",
    "                                           files_map_df=files_map_df,\n",
    "                                           temporary_directory=temp_extract_dir,\n",
    "                                           computed_scores_path=computed_scores_path)\n",
    "\n",
    "with concurrent.futures.ProcessPoolExecutor() as executor:\n",
    "    all_aucs = list(\n",
    "        tqdm.tqdm(executor.map(compute_scores_partial, drugs),\n",
    "                  total=len(drugs))\n",
    "    )"
   ]
  },
  {
   "cell_type": "code",
   "execution_count": null,
   "metadata": {},
   "outputs": [],
   "source": [
    "# Flatten the list of lists of tuples to a list of tuples\n",
    "all_aucs = [i for l in all_aucs for i in l]\n",
    "all_auc_df = pd.DataFrame(all_aucs, columns=['drug', 'bootstrap', 'auc'])\n",
    "all_auc_df.to_csv(meta_files_path.joinpath('all_auc.csv'), index=False)\n",
    "all_auc_df.head(2)"
   ]
  }
 ],
 "metadata": {
  "kernelspec": {
   "display_name": "Python [conda env:nsides] *",
   "language": "python",
   "name": "conda-env-nsides-py"
  },
  "language_info": {
   "codemirror_mode": {
    "name": "ipython",
    "version": 3
   },
   "file_extension": ".py",
   "mimetype": "text/x-python",
   "name": "python",
   "nbconvert_exporter": "python",
   "pygments_lexer": "ipython3",
   "version": "3.7.3"
  }
 },
 "nbformat": 4,
 "nbformat_minor": 2
}
