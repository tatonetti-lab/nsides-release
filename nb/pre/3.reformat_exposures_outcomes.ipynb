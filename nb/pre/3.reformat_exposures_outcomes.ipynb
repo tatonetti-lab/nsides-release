{
 "cells": [
  {
   "cell_type": "code",
   "execution_count": 2,
   "metadata": {},
   "outputs": [],
   "source": [
    "import pathlib\n",
    "import re\n",
    "\n",
    "import numpy as np\n",
    "import pandas as pd\n",
    "import scipy.io\n",
    "import scipy.sparse"
   ]
  },
  {
   "cell_type": "markdown",
   "metadata": {},
   "source": [
    "# Build drug exposure array\n",
    "\n",
    "Currently, there are smaller files for chunks of reports"
   ]
  },
  {
   "cell_type": "code",
   "execution_count": 3,
   "metadata": {},
   "outputs": [
    {
     "name": "stdout",
     "output_type": "stream",
     "text": [
      "../data/aeolus/AEOLUS_all_reports_IN_50.npy\n",
      "../data/aeolus/AEOLUS_all_reports_IN_51.npy\n",
      "../data/aeolus/AEOLUS_all_reports_IN_52.npy\n",
      "../data/aeolus/AEOLUS_all_reports_IN_53.npy\n",
      "../data/aeolus/AEOLUS_all_reports_IN_54.npy\n"
     ]
    }
   ],
   "source": [
    "aeolus_path = pathlib.Path('../data/aeolus/')\n",
    "drug_files = list(aeolus_path.glob('*.npy'))\n",
    "\n",
    "# Sort by integer, not string, so that sorted order is 1, 2, ... not 1, 10, 11, ...\n",
    "drug_files = sorted(drug_files, key=lambda p: int(re.match('(?:.+_IN_)([0-9]+)(?:\\.npy)', p.name).group(1)))\n",
    "\n",
    "all_drugs = None\n",
    "\n",
    "for drug_file in drug_files:\n",
    "    try:\n",
    "        sparse_arr = np.load(drug_file).item()\n",
    "    except OSError:\n",
    "        print(drug_file)\n",
    "        pass\n",
    "    \n",
    "    if all_drugs is None:\n",
    "        all_drugs = sparse_arr\n",
    "    else:\n",
    "        all_drugs = scipy.sparse.vstack([all_drugs, sparse_arr])"
   ]
  },
  {
   "cell_type": "markdown",
   "metadata": {},
   "source": [
    "### Check drug exposure array"
   ]
  },
  {
   "cell_type": "code",
   "execution_count": 4,
   "metadata": {},
   "outputs": [
    {
     "data": {
      "text/plain": [
       "(5338588, 4396)"
      ]
     },
     "execution_count": 4,
     "metadata": {},
     "output_type": "execute_result"
    }
   ],
   "source": [
    "# Array is too big. (Too many records)\n",
    "all_drugs.shape"
   ]
  },
  {
   "cell_type": "code",
   "execution_count": 5,
   "metadata": {},
   "outputs": [],
   "source": [
    "# But the excess rows are all empty\n",
    "assert all_drugs.tocsc()[4694086:].nnz == 0\n",
    "\n",
    "# So use only real rows\n",
    "sliced_drugs_array = all_drugs.tocsc()[:4694086]\n",
    "\n",
    "# Save the drug exposure matrix to a file\n",
    "scipy.sparse.save_npz('../data/meta/all_drug_exposures.npz', sliced_drugs_array)"
   ]
  },
  {
   "cell_type": "markdown",
   "metadata": {},
   "source": [
    "### Rebuild and save drugs vector"
   ]
  },
  {
   "cell_type": "code",
   "execution_count": 6,
   "metadata": {},
   "outputs": [],
   "source": [
    "original_drugs_vector = np.load('../data/meta/unique_ingredients.npy')\n",
    "\n",
    "np.save('../data/meta/drugs_vector.npy', original_drugs_vector.astype(int))"
   ]
  },
  {
   "cell_type": "markdown",
   "metadata": {},
   "source": [
    "# Reconstruct outcomes array\n",
    "\n",
    "Need to use MedDRA instead of SNOMED for outcome concepts."
   ]
  },
  {
   "cell_type": "code",
   "execution_count": 6,
   "metadata": {},
   "outputs": [
    {
     "data": {
      "text/html": [
       "<div>\n",
       "<style scoped>\n",
       "    .dataframe tbody tr th:only-of-type {\n",
       "        vertical-align: middle;\n",
       "    }\n",
       "\n",
       "    .dataframe tbody tr th {\n",
       "        vertical-align: top;\n",
       "    }\n",
       "\n",
       "    .dataframe thead th {\n",
       "        text-align: right;\n",
       "    }\n",
       "</style>\n",
       "<table border=\"1\" class=\"dataframe\">\n",
       "  <thead>\n",
       "    <tr style=\"text-align: right;\">\n",
       "      <th></th>\n",
       "      <th>primaryid</th>\n",
       "      <th>isr</th>\n",
       "      <th>pt</th>\n",
       "      <th>outcome_concept_id</th>\n",
       "      <th>snomed_outcome_concept_id</th>\n",
       "    </tr>\n",
       "  </thead>\n",
       "  <tbody>\n",
       "    <tr>\n",
       "      <th>0</th>\n",
       "      <td>NaN</td>\n",
       "      <td>8310062.0</td>\n",
       "      <td>0</td>\n",
       "      <td>35607122</td>\n",
       "      <td>NaN</td>\n",
       "    </tr>\n",
       "    <tr>\n",
       "      <th>1</th>\n",
       "      <td>NaN</td>\n",
       "      <td>7794268.0</td>\n",
       "      <td>0</td>\n",
       "      <td>36718526</td>\n",
       "      <td>377091.0</td>\n",
       "    </tr>\n",
       "  </tbody>\n",
       "</table>\n",
       "</div>"
      ],
      "text/plain": [
       "   primaryid        isr  pt  outcome_concept_id  snomed_outcome_concept_id\n",
       "0        NaN  8310062.0   0            35607122                        NaN\n",
       "1        NaN  7794268.0   0            36718526                   377091.0"
      ]
     },
     "execution_count": 6,
     "metadata": {},
     "output_type": "execute_result"
    }
   ],
   "source": [
    "report_ids = np.load('../data/meta/all_reportids_IN.npy')\n",
    "\n",
    "outcomes_df = pd.read_csv('../data/meta/outcomes_table.csv.xz')\n",
    "\n",
    "outcomes_df.head(2)"
   ]
  },
  {
   "cell_type": "code",
   "execution_count": 7,
   "metadata": {},
   "outputs": [
    {
     "name": "stdout",
     "output_type": "stream",
     "text": [
      "SNOMED: 7091, MedDRA: 17710\n"
     ]
    }
   ],
   "source": [
    "n_unique_meddra = len(set(outcomes_df['outcome_concept_id']))\n",
    "n_unique_snomed = len(set(outcomes_df\n",
    "                          .dropna(subset=['snomed_outcome_concept_id'])\n",
    "                          ['snomed_outcome_concept_id']))\n",
    "\n",
    "print(f'SNOMED: {n_unique_snomed}, MedDRA: {n_unique_meddra}')"
   ]
  },
  {
   "cell_type": "code",
   "execution_count": 8,
   "metadata": {
    "scrolled": true
   },
   "outputs": [],
   "source": [
    "# There are no entries with both primaryid and isr or neither. Always exactly one of the two\n",
    "assert outcomes_df[~(outcomes_df['isr'].isnull() | outcomes_df['primaryid'].isnull())].shape[0] == 0\n",
    "assert outcomes_df[~outcomes_df['isr'].isnull() & ~outcomes_df['primaryid'].isnull()].shape[0] == 0"
   ]
  },
  {
   "cell_type": "code",
   "execution_count": 9,
   "metadata": {},
   "outputs": [
    {
     "data": {
      "text/html": [
       "<div>\n",
       "<style scoped>\n",
       "    .dataframe tbody tr th:only-of-type {\n",
       "        vertical-align: middle;\n",
       "    }\n",
       "\n",
       "    .dataframe tbody tr th {\n",
       "        vertical-align: top;\n",
       "    }\n",
       "\n",
       "    .dataframe thead th {\n",
       "        text-align: right;\n",
       "    }\n",
       "</style>\n",
       "<table border=\"1\" class=\"dataframe\">\n",
       "  <thead>\n",
       "    <tr style=\"text-align: right;\">\n",
       "      <th></th>\n",
       "      <th>report_id</th>\n",
       "      <th>pt</th>\n",
       "      <th>outcome_concept_id</th>\n",
       "      <th>snomed_outcome_concept_id</th>\n",
       "      <th>index</th>\n",
       "    </tr>\n",
       "  </thead>\n",
       "  <tbody>\n",
       "    <tr>\n",
       "      <th>0</th>\n",
       "      <td>100033001</td>\n",
       "      <td>0</td>\n",
       "      <td>36516812</td>\n",
       "      <td>77074.0</td>\n",
       "      <td>4394326</td>\n",
       "    </tr>\n",
       "    <tr>\n",
       "      <th>1</th>\n",
       "      <td>100033001</td>\n",
       "      <td>0</td>\n",
       "      <td>35708093</td>\n",
       "      <td>196523.0</td>\n",
       "      <td>4394326</td>\n",
       "    </tr>\n",
       "  </tbody>\n",
       "</table>\n",
       "</div>"
      ],
      "text/plain": [
       "   report_id  pt  outcome_concept_id  snomed_outcome_concept_id    index\n",
       "0  100033001   0            36516812                    77074.0  4394326\n",
       "1  100033001   0            35708093                   196523.0  4394326"
      ]
     },
     "execution_count": 9,
     "metadata": {},
     "output_type": "execute_result"
    }
   ],
   "source": [
    "# Create a \"report_id\" which is either \"primaryid\" or \"isr\", whichever the report has\n",
    "report_outcomes_df = (\n",
    "    pd.concat([\n",
    "        outcomes_df\n",
    "        .loc[~outcomes_df['primaryid'].isnull()]\n",
    "        .rename(columns={'primaryid': 'report_id'})\n",
    "        .drop('isr', axis=1),\n",
    "        outcomes_df\n",
    "        .loc[~outcomes_df['isr'].isnull()]\n",
    "        .rename(columns={'isr': 'report_id'})\n",
    "        .drop('primaryid', axis=1),\n",
    "    ], ignore_index=True, sort=False)\n",
    "    .assign(\n",
    "        report_id=lambda df: df['report_id'].astype(int),\n",
    "    )\n",
    "    # More report ids in the new dataframe than in already computed files\n",
    "    .merge(pd.DataFrame(report_ids, columns=['report_id']).reset_index(),\n",
    "           on='report_id', how='right')\n",
    ")\n",
    "\n",
    "report_outcomes_df.head(2)"
   ]
  },
  {
   "cell_type": "code",
   "execution_count": 10,
   "metadata": {},
   "outputs": [
    {
     "data": {
      "text/html": [
       "<div>\n",
       "<style scoped>\n",
       "    .dataframe tbody tr th:only-of-type {\n",
       "        vertical-align: middle;\n",
       "    }\n",
       "\n",
       "    .dataframe tbody tr th {\n",
       "        vertical-align: top;\n",
       "    }\n",
       "\n",
       "    .dataframe thead th {\n",
       "        text-align: right;\n",
       "    }\n",
       "</style>\n",
       "<table border=\"1\" class=\"dataframe\">\n",
       "  <thead>\n",
       "    <tr style=\"text-align: right;\">\n",
       "      <th></th>\n",
       "      <th>report_id</th>\n",
       "      <th>outcome_concept_id</th>\n",
       "      <th>snomed_outcome_concept_id</th>\n",
       "      <th>report_index</th>\n",
       "      <th>outcome_index</th>\n",
       "    </tr>\n",
       "  </thead>\n",
       "  <tbody>\n",
       "    <tr>\n",
       "      <th>0</th>\n",
       "      <td>100033001</td>\n",
       "      <td>36516812</td>\n",
       "      <td>77074.0</td>\n",
       "      <td>4394326</td>\n",
       "      <td>10544</td>\n",
       "    </tr>\n",
       "    <tr>\n",
       "      <th>1</th>\n",
       "      <td>100033001</td>\n",
       "      <td>35708093</td>\n",
       "      <td>196523.0</td>\n",
       "      <td>4394326</td>\n",
       "      <td>3612</td>\n",
       "    </tr>\n",
       "  </tbody>\n",
       "</table>\n",
       "</div>"
      ],
      "text/plain": [
       "   report_id  outcome_concept_id  snomed_outcome_concept_id  report_index  \\\n",
       "0  100033001            36516812                    77074.0       4394326   \n",
       "1  100033001            35708093                   196523.0       4394326   \n",
       "\n",
       "   outcome_index  \n",
       "0          10544  \n",
       "1           3612  "
      ]
     },
     "execution_count": 10,
     "metadata": {},
     "output_type": "execute_result"
    }
   ],
   "source": [
    "meddra_id_to_index = {meddra_id: i for i, meddra_id\n",
    "                      in enumerate(sorted(set(report_outcomes_df['outcome_concept_id'])))}\n",
    "\n",
    "report_outcomes_df = (\n",
    "    report_outcomes_df\n",
    "    .assign(\n",
    "        outcome_index=lambda df: df['outcome_concept_id'].map(meddra_id_to_index)\n",
    "    )\n",
    "    .rename(columns={'index': 'report_index'})\n",
    "    .drop('pt', axis=1)\n",
    ")\n",
    "\n",
    "report_outcomes_df.to_csv('../data/meta/reports_outcomes.csv.xz', index=False, compression='xz')\n",
    "\n",
    "report_outcomes_df.head(2)"
   ]
  },
  {
   "cell_type": "code",
   "execution_count": 11,
   "metadata": {},
   "outputs": [],
   "source": [
    "# Generate and save matrix\n",
    "n_edges = report_outcomes_df.shape[0]\n",
    "edges = report_outcomes_df[['report_index', 'outcome_index']].values.tolist()\n",
    "\n",
    "outcomes_matrix = scipy.sparse.coo_matrix(\n",
    "    (np.ones(n_edges), (zip(*edges)))\n",
    ")\n",
    "scipy.sparse.save_npz('../data/meta/all_outcomes_meddra.npz', outcomes_matrix.tocsc())\n",
    "\n",
    "# Generate and save vector of ids\n",
    "np.save(\n",
    "    '../data/meta/outcomes_vector_meddra.npy',\n",
    "    report_outcomes_df\n",
    "    .loc[:, ['outcome_concept_id', 'outcome_index']]\n",
    "    .drop_duplicates()\n",
    "    .sort_values(by='outcome_index')\n",
    "    ['outcome_concept_id']\n",
    "    .values\n",
    ")"
   ]
  }
 ],
 "metadata": {
  "kernelspec": {
   "display_name": "Python [conda env:xswap-analysis]",
   "language": "python",
   "name": "conda-env-xswap-analysis-py"
  },
  "language_info": {
   "codemirror_mode": {
    "name": "ipython",
    "version": 3
   },
   "file_extension": ".py",
   "mimetype": "text/x-python",
   "name": "python",
   "nbconvert_exporter": "python",
   "pygments_lexer": "ipython3",
   "version": "3.7.3"
  }
 },
 "nbformat": 4,
 "nbformat_minor": 2
}
