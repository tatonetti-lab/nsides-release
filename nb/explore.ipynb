{
 "cells": [
  {
   "cell_type": "code",
   "execution_count": 1,
   "metadata": {},
   "outputs": [],
   "source": [
    "import io\n",
    "import pathlib\n",
    "import re\n",
    "import tarfile\n",
    "\n",
    "import numpy as np\n",
    "import pandas as pd\n",
    "import scipy.io\n",
    "import tqdm"
   ]
  },
  {
   "cell_type": "code",
   "execution_count": 2,
   "metadata": {},
   "outputs": [],
   "source": [
    "# Define the root of the directory of interest\n",
    "path = pathlib.Path('/data1/home/rav7008/formike/')"
   ]
  },
  {
   "cell_type": "markdown",
   "metadata": {},
   "source": [
    "# Data errors and data quality\n",
    "1. Age\n",
    "    1. Unreasonable ages and `NaN`\n",
    "2. Sex\n",
    "    1. Too many options and ambiguity when multiple/none listed\n",
    "3. Drugs\n",
    "    1. Repeats in the `unique_ingredients.npy` file (not unique!)\n",
    "    1. Some do not have RxNorm CUIs in the file\n",
    "        1. Ambiguity what to do with `drug_concept_id`. What fields *should* be present in drug table?\n",
    "4. `NaN` in PRR files\n",
    "    1. What is the meaning of this? Why would they be `NaN`?\n",
    "5. Why `metadata['reportids'] != metadata['reportids_IN']`?"
   ]
  },
  {
   "cell_type": "markdown",
   "metadata": {},
   "source": [
    "# 1. Age"
   ]
  },
  {
   "cell_type": "code",
   "execution_count": 3,
   "metadata": {},
   "outputs": [
    {
     "data": {
      "text/html": [
       "<div>\n",
       "<style scoped>\n",
       "    .dataframe tbody tr th:only-of-type {\n",
       "        vertical-align: middle;\n",
       "    }\n",
       "\n",
       "    .dataframe tbody tr th {\n",
       "        vertical-align: top;\n",
       "    }\n",
       "\n",
       "    .dataframe thead th {\n",
       "        text-align: right;\n",
       "    }\n",
       "</style>\n",
       "<table border=\"1\" class=\"dataframe\">\n",
       "  <thead>\n",
       "    <tr style=\"text-align: right;\">\n",
       "      <th></th>\n",
       "      <th>report_id</th>\n",
       "      <th>age</th>\n",
       "    </tr>\n",
       "  </thead>\n",
       "  <tbody>\n",
       "    <tr>\n",
       "      <td>2043937</td>\n",
       "      <td>4381869</td>\n",
       "      <td>7200</td>\n",
       "    </tr>\n",
       "    <tr>\n",
       "      <td>1986616</td>\n",
       "      <td>4315400</td>\n",
       "      <td>6800</td>\n",
       "    </tr>\n",
       "    <tr>\n",
       "      <td>517178</td>\n",
       "      <td>4352281</td>\n",
       "      <td>5200</td>\n",
       "    </tr>\n",
       "    <tr>\n",
       "      <td>4029827</td>\n",
       "      <td>6974212</td>\n",
       "      <td>1054</td>\n",
       "    </tr>\n",
       "    <tr>\n",
       "      <td>4039709</td>\n",
       "      <td>6986289</td>\n",
       "      <td>1045</td>\n",
       "    </tr>\n",
       "    <tr>\n",
       "      <td>655486</td>\n",
       "      <td>93530001</td>\n",
       "      <td>1005</td>\n",
       "    </tr>\n",
       "    <tr>\n",
       "      <td>2142467</td>\n",
       "      <td>88385041</td>\n",
       "      <td>958</td>\n",
       "    </tr>\n",
       "    <tr>\n",
       "      <td>397987</td>\n",
       "      <td>7104578</td>\n",
       "      <td>953</td>\n",
       "    </tr>\n",
       "    <tr>\n",
       "      <td>1991583</td>\n",
       "      <td>4321047</td>\n",
       "      <td>869</td>\n",
       "    </tr>\n",
       "    <tr>\n",
       "      <td>1780051</td>\n",
       "      <td>4842004</td>\n",
       "      <td>660</td>\n",
       "    </tr>\n",
       "    <tr>\n",
       "      <td>2654907</td>\n",
       "      <td>5124750</td>\n",
       "      <td>660</td>\n",
       "    </tr>\n",
       "    <tr>\n",
       "      <td>4535710</td>\n",
       "      <td>5280902</td>\n",
       "      <td>566</td>\n",
       "    </tr>\n",
       "    <tr>\n",
       "      <td>2955798</td>\n",
       "      <td>5512138</td>\n",
       "      <td>566</td>\n",
       "    </tr>\n",
       "    <tr>\n",
       "      <td>271989</td>\n",
       "      <td>8270849</td>\n",
       "      <td>525</td>\n",
       "    </tr>\n",
       "    <tr>\n",
       "      <td>4022512</td>\n",
       "      <td>6965497</td>\n",
       "      <td>495</td>\n",
       "    </tr>\n",
       "    <tr>\n",
       "      <td>3716152</td>\n",
       "      <td>6581688</td>\n",
       "      <td>407</td>\n",
       "    </tr>\n",
       "    <tr>\n",
       "      <td>4000881</td>\n",
       "      <td>6938914</td>\n",
       "      <td>362</td>\n",
       "    </tr>\n",
       "    <tr>\n",
       "      <td>151041</td>\n",
       "      <td>8576536</td>\n",
       "      <td>360</td>\n",
       "    </tr>\n",
       "    <tr>\n",
       "      <td>4755476</td>\n",
       "      <td>6905005</td>\n",
       "      <td>352</td>\n",
       "    </tr>\n",
       "    <tr>\n",
       "      <td>2080964</td>\n",
       "      <td>4426703</td>\n",
       "      <td>200</td>\n",
       "    </tr>\n",
       "  </tbody>\n",
       "</table>\n",
       "</div>"
      ],
      "text/plain": [
       "         report_id   age\n",
       "2043937    4381869  7200\n",
       "1986616    4315400  6800\n",
       "517178     4352281  5200\n",
       "4029827    6974212  1054\n",
       "4039709    6986289  1045\n",
       "655486    93530001  1005\n",
       "2142467   88385041   958\n",
       "397987     7104578   953\n",
       "1991583    4321047   869\n",
       "1780051    4842004   660\n",
       "2654907    5124750   660\n",
       "4535710    5280902   566\n",
       "2955798    5512138   566\n",
       "271989     8270849   525\n",
       "4022512    6965497   495\n",
       "3716152    6581688   407\n",
       "4000881    6938914   362\n",
       "151041     8576536   360\n",
       "4755476    6905005   352\n",
       "2080964    4426703   200"
      ]
     },
     "execution_count": 3,
     "metadata": {},
     "output_type": "execute_result"
    }
   ],
   "source": [
    "ages = np.load(path / 'data/all_ages.npy', allow_pickle=True)\n",
    "\n",
    "ages_df = (\n",
    "    pd.DataFrame\n",
    "    .from_dict(ages.item(), orient='index')\n",
    "    .reset_index()\n",
    "    .rename(columns={'index': 'report_id', 0: 'age'})\n",
    ")\n",
    "\n",
    "(\n",
    "    ages_df\n",
    "    .loc[(ages_df['age'] < 0) | (ages_df['age'] > 110)]\n",
    "    .sort_values(by='age', ascending=False)\n",
    "    .head(20)\n",
    ")"
   ]
  },
  {
   "cell_type": "markdown",
   "metadata": {},
   "source": [
    "# 2. Sex"
   ]
  },
  {
   "cell_type": "code",
   "execution_count": 4,
   "metadata": {},
   "outputs": [],
   "source": [
    "sexes = np.load(path / 'data/all_sexes.npy', allow_pickle=True)\n",
    "\n",
    "sexes_df = (\n",
    "    pd.Series(sexes.item())\n",
    "    .reset_index()\n",
    "    .rename(columns={'index': 'report_id', 0: 'sex'})\n",
    ")"
   ]
  },
  {
   "cell_type": "code",
   "execution_count": 5,
   "metadata": {},
   "outputs": [
    {
     "data": {
      "text/plain": [
       "[F]           4937117\n",
       "[M]           3126543\n",
       "[]             657841\n",
       "[NS]           109382\n",
       "[UNK]           14581\n",
       "[F, F]           2701\n",
       "[M, M]           1900\n",
       "[, ]              180\n",
       "[UNK, UNK]         21\n",
       "[, M]              10\n",
       "[, F]               6\n",
       "[M, F]              6\n",
       "[NS, NS]            6\n",
       "[NS, M]             5\n",
       "[F, M]              5\n",
       "[YR]                1\n",
       "[, NS]              1\n",
       "[NS, ]              1\n",
       "Name: sex, dtype: int64"
      ]
     },
     "execution_count": 5,
     "metadata": {},
     "output_type": "execute_result"
    }
   ],
   "source": [
    "sexes_df['sex'].value_counts()"
   ]
  },
  {
   "cell_type": "markdown",
   "metadata": {},
   "source": [
    "# 3. Drugs\n",
    "\n",
    "### A. Drugs appear to be redundant within the vector (some drugs appear at a number of different indices)."
   ]
  },
  {
   "cell_type": "code",
   "execution_count": 6,
   "metadata": {},
   "outputs": [
    {
     "data": {
      "text/plain": [
       "161      44\n",
       "5487     28\n",
       "8163     21\n",
       "8896     20\n",
       "3289     20\n",
       "6750     17\n",
       "1886     17\n",
       "1191     16\n",
       "1897     15\n",
       "2400     13\n",
       "4124     12\n",
       "5492     12\n",
       "3498     11\n",
       "5032     11\n",
       "1151     10\n",
       "1952     10\n",
       "17767    10\n",
       "5640      9\n",
       "68244     8\n",
       "11423     8\n",
       "dtype: int64"
      ]
     },
     "execution_count": 6,
     "metadata": {},
     "output_type": "execute_result"
    }
   ],
   "source": [
    "unique_ingredients = np.load(path / 'data/unique_ingredients.npy')\n",
    "\n",
    "(\n",
    "    pd.Series(unique_ingredients.astype(int))\n",
    "    .value_counts()\n",
    "    .head(20)\n",
    ")"
   ]
  },
  {
   "cell_type": "markdown",
   "metadata": {},
   "source": [
    "### B. `drug_concept_names.csv` does not include names and concept ids for all the ingredients in the vector"
   ]
  },
  {
   "cell_type": "code",
   "execution_count": 7,
   "metadata": {},
   "outputs": [
    {
     "data": {
      "text/html": [
       "<div>\n",
       "<style scoped>\n",
       "    .dataframe tbody tr th:only-of-type {\n",
       "        vertical-align: middle;\n",
       "    }\n",
       "\n",
       "    .dataframe tbody tr th {\n",
       "        vertical-align: top;\n",
       "    }\n",
       "\n",
       "    .dataframe thead th {\n",
       "        text-align: right;\n",
       "    }\n",
       "</style>\n",
       "<table border=\"1\" class=\"dataframe\">\n",
       "  <thead>\n",
       "    <tr style=\"text-align: right;\">\n",
       "      <th></th>\n",
       "      <th>drug_concept_id</th>\n",
       "      <th>concept_name</th>\n",
       "      <th>concept_code</th>\n",
       "    </tr>\n",
       "  </thead>\n",
       "  <tbody>\n",
       "    <tr>\n",
       "      <td>4386</td>\n",
       "      <td>NaN</td>\n",
       "      <td>NaN</td>\n",
       "      <td>100278</td>\n",
       "    </tr>\n",
       "    <tr>\n",
       "      <td>4387</td>\n",
       "      <td>NaN</td>\n",
       "      <td>NaN</td>\n",
       "      <td>857953</td>\n",
       "    </tr>\n",
       "    <tr>\n",
       "      <td>4388</td>\n",
       "      <td>NaN</td>\n",
       "      <td>NaN</td>\n",
       "      <td>1427022</td>\n",
       "    </tr>\n",
       "    <tr>\n",
       "      <td>4389</td>\n",
       "      <td>NaN</td>\n",
       "      <td>NaN</td>\n",
       "      <td>1303851</td>\n",
       "    </tr>\n",
       "    <tr>\n",
       "      <td>4390</td>\n",
       "      <td>NaN</td>\n",
       "      <td>NaN</td>\n",
       "      <td>1304122</td>\n",
       "    </tr>\n",
       "    <tr>\n",
       "      <td>4391</td>\n",
       "      <td>NaN</td>\n",
       "      <td>NaN</td>\n",
       "      <td>386055</td>\n",
       "    </tr>\n",
       "    <tr>\n",
       "      <td>4392</td>\n",
       "      <td>NaN</td>\n",
       "      <td>NaN</td>\n",
       "      <td>1731071</td>\n",
       "    </tr>\n",
       "    <tr>\n",
       "      <td>4393</td>\n",
       "      <td>NaN</td>\n",
       "      <td>NaN</td>\n",
       "      <td>596723</td>\n",
       "    </tr>\n",
       "    <tr>\n",
       "      <td>4394</td>\n",
       "      <td>NaN</td>\n",
       "      <td>NaN</td>\n",
       "      <td>1727875</td>\n",
       "    </tr>\n",
       "    <tr>\n",
       "      <td>4395</td>\n",
       "      <td>NaN</td>\n",
       "      <td>NaN</td>\n",
       "      <td>644634</td>\n",
       "    </tr>\n",
       "  </tbody>\n",
       "</table>\n",
       "</div>"
      ],
      "text/plain": [
       "      drug_concept_id concept_name  concept_code\n",
       "4386              NaN          NaN        100278\n",
       "4387              NaN          NaN        857953\n",
       "4388              NaN          NaN       1427022\n",
       "4389              NaN          NaN       1303851\n",
       "4390              NaN          NaN       1304122\n",
       "4391              NaN          NaN        386055\n",
       "4392              NaN          NaN       1731071\n",
       "4393              NaN          NaN        596723\n",
       "4394              NaN          NaN       1727875\n",
       "4395              NaN          NaN        644634"
      ]
     },
     "execution_count": 7,
     "metadata": {},
     "output_type": "execute_result"
    }
   ],
   "source": [
    "drug_names = pd.read_csv(path / 'data/drug_concept_names.csv')\n",
    "\n",
    "(\n",
    "    drug_names\n",
    "    .merge(pd.Series(unique_ingredients.astype(int), name='concept_code'), how='right')\n",
    "    .query('concept_name.isnull()')\n",
    ")"
   ]
  },
  {
   "cell_type": "markdown",
   "metadata": {},
   "source": [
    "# 4. `NaN` in PRR files"
   ]
  },
  {
   "cell_type": "code",
   "execution_count": 8,
   "metadata": {},
   "outputs": [],
   "source": [
    "# Open the tarfile containing all computed PRR and PRR error values\n",
    "tf = tarfile.open(path / 'all_PRRs.tar.gz', mode='r:gz')\n",
    "\n",
    "# Only currently interested in the PRR files, not errors, though there are NaNs there too\n",
    "prr_files = [path for path in tf.getmembers() if 'PRRs' not in path.name]\n",
    "\n",
    "non_na_frac = list()\n",
    "for member in prr_files:\n",
    "    npy = tf.extractfile(member)\n",
    "    prr = np.load(io.BytesIO(npy.read())).flatten()\n",
    "    \n",
    "    if not np.isnan(prr[0]):\n",
    "        print(member.name)\n",
    "        \n",
    "    fraction_non_na = (prr.shape[0] - prr[np.isnan(prr)].shape[0]) / prr.shape[0]\n",
    "    non_na_frac.append((member.name, fraction_non_na))\n",
    "    \n",
    "non_na_df = pd.DataFrame(non_na_frac, columns=['filename', 'frac_non_na'])"
   ]
  },
  {
   "cell_type": "code",
   "execution_count": 9,
   "metadata": {},
   "outputs": [
    {
     "data": {
      "text/plain": [
       "<matplotlib.axes._subplots.AxesSubplot at 0x7fe7dcee1588>"
      ]
     },
     "execution_count": 9,
     "metadata": {},
     "output_type": "execute_result"
    },
    {
     "data": {
      "image/png": "[encoded data removed]",
      "text/plain": [
       "<Figure size 432x288 with 1 Axes>"
      ]
     },
     "metadata": {
      "needs_background": "light"
     },
     "output_type": "display_data"
    }
   ],
   "source": [
    "# x-axis is the fraction of values that are NOT NaN among PRR files\n",
    "# y-axis is the number of PRR files with that fraction of non-NaN\n",
    "\n",
    "%matplotlib inline\n",
    "non_na_df['frac_non_na'].hist()"
   ]
  },
  {
   "cell_type": "markdown",
   "metadata": {},
   "source": [
    "# 5. Report ID ambiguity"
   ]
  },
  {
   "cell_type": "code",
   "execution_count": 10,
   "metadata": {},
   "outputs": [
    {
     "data": {
      "text/plain": [
       "((4855498,), (4694086,))"
      ]
     },
     "execution_count": 10,
     "metadata": {},
     "output_type": "execute_result"
    }
   ],
   "source": [
    "report_id = np.load(path / 'data/all_reportids.npy')\n",
    "report_id_in = np.load(path / 'data/all_reportids_IN.npy')\n",
    "\n",
    "report_id.shape, report_id_in.shape"
   ]
  }
 ],
 "metadata": {
  "kernelspec": {
   "display_name": "Python [conda env:nsides] *",
   "language": "python",
   "name": "conda-env-nsides-py"
  },
  "language_info": {
   "codemirror_mode": {
    "name": "ipython",
    "version": 3
   },
   "file_extension": ".py",
   "mimetype": "text/x-python",
   "name": "python",
   "nbconvert_exporter": "python",
   "pygments_lexer": "ipython3",
   "version": "3.7.3"
  }
 },
 "nbformat": 4,
 "nbformat_minor": 2
}
