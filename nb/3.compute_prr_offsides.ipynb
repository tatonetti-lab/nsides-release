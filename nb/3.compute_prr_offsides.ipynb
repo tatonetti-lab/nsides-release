{
 "cells": [
  {
   "cell_type": "code",
   "execution_count": null,
   "metadata": {},
   "outputs": [],
   "source": [
    "import concurrent.futures\n",
    "import functools\n",
    "import pathlib\n",
    "import sys\n",
    "\n",
    "import numpy as np\n",
    "import scipy.sparse\n",
    "import tqdm\n",
    "\n",
    "sys.path.insert(0, '../src/')\n",
    "import parallel_utils"
   ]
  },
  {
   "cell_type": "code",
   "execution_count": null,
   "metadata": {},
   "outputs": [],
   "source": [
    "# User-specified directory paths\n",
    "meta_files_path = pathlib.Path('../data/meta/')\n",
    "\n",
    "computed_scores_path = pathlib.Path('../data/scores/')\n",
    "computed_scores_path.mkdir(exist_ok=True)"
   ]
  },
  {
   "cell_type": "code",
   "execution_count": null,
   "metadata": {},
   "outputs": [],
   "source": [
    "# Load matrices of reports by exposures and outcomes\n",
    "reports_exposures_matrix = scipy.sparse.load_npz(\n",
    "    meta_files_path.joinpath('all_drug_exposures.npz')\n",
    ")\n",
    "reports_outcomes_matrix = scipy.sparse.load_npz(\n",
    "    meta_files_path.joinpath('all_outcomes_meddra.npz')\n",
    ")\n",
    "\n",
    "print(f'Exposures: {reports_exposures_matrix.shape},'\n",
    "      f' Outcomes: {reports_outcomes_matrix.shape}')"
   ]
  },
  {
   "cell_type": "code",
   "execution_count": null,
   "metadata": {},
   "outputs": [],
   "source": [
    "# Load vectors of the ids at each index for exposures and outcomes\n",
    "drugs_id_vector = np.load(\n",
    "    meta_files_path.joinpath('drugs_vector.npy')\n",
    ").astype(str)\n",
    "outcomes_id_vector = np.load(\n",
    "    meta_files_path.joinpath('outcomes_vector_meddra.npy')\n",
    ")\n",
    "\n",
    "computable_drugs = list(computed_scores_path.glob('*.npz'))\n",
    "computable_drugs = sorted([int(drug.stem) for drug in computable_drugs])"
   ]
  },
  {
   "cell_type": "code",
   "execution_count": null,
   "metadata": {},
   "outputs": [],
   "source": [
    "run_one_drug = functools.partial(\n",
    "    parallel_utils.prr_one_drug,\n",
    "    all_exposures=reports_exposures_matrix,\n",
    "    all_outcomes=reports_outcomes_matrix,\n",
    "    n_reports=reports_outcomes_matrix.shape[0],\n",
    "    drug_id_vector=drugs_id_vector,\n",
    "    outcome_id_vector=outcomes_id_vector,\n",
    "    scores_path=computed_scores_path,\n",
    ")\n",
    "\n",
    "# Compute and save disproportionality files (one for each drug)\n",
    "with concurrent.futures.ProcessPoolExecutor() as executor:\n",
    "    results = list(  # noqa: F841\n",
    "        tqdm.tqdm(executor.map(run_one_drug, computable_drugs),\n",
    "                  total=len(computable_drugs))\n",
    "    )"
   ]
  }
 ],
 "metadata": {
  "kernelspec": {
   "display_name": "Python [conda env:nsides] *",
   "language": "python",
   "name": "conda-env-nsides-py"
  },
  "language_info": {
   "codemirror_mode": {
    "name": "ipython",
    "version": 3
   },
   "file_extension": ".py",
   "mimetype": "text/x-python",
   "name": "python",
   "nbconvert_exporter": "python",
   "pygments_lexer": "ipython3",
   "version": "3.7.3"
  }
 },
 "nbformat": 4,
 "nbformat_minor": 2
}
